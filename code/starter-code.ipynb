{
 "cells": [
  {
   "cell_type": "code",
   "execution_count": 40,
   "metadata": {
    "collapsed": true
   },
   "outputs": [],
   "source": [
    "import pandas as pd\n",
    "import numpy as np\n",
    "import os\n",
    "from matplotlib import pyplot as plt\n",
    "import numpy as np\n",
    "import math\n",
    "from sklearn.preprocessing import StandardScaler\n",
    "from sklearn.decomposition import PCA \n",
    "%matplotlib inline"
   ]
  },
  {
   "cell_type": "markdown",
   "metadata": {},
   "source": [
    "# Case #1: Congressional Voting Data"
   ]
  },
  {
   "cell_type": "markdown",
   "metadata": {},
   "source": [
    "After you've downloaded the data from the repository, go ahead and load it with Pandas"
   ]
  },
  {
   "cell_type": "code",
   "execution_count": 3,
   "metadata": {
    "collapsed": false
   },
   "outputs": [],
   "source": [
    "votes = pd.read_csv('../assets/datasets/votes.csv')"
   ]
  },
  {
   "cell_type": "code",
   "execution_count": 11,
   "metadata": {
    "collapsed": false
   },
   "outputs": [
    {
     "data": {
      "text/html": [
       "<div>\n",
       "<table border=\"1\" class=\"dataframe\">\n",
       "  <thead>\n",
       "    <tr style=\"text-align: right;\">\n",
       "      <th></th>\n",
       "      <th>Class</th>\n",
       "      <th>V1</th>\n",
       "      <th>V2</th>\n",
       "      <th>V3</th>\n",
       "      <th>V4</th>\n",
       "      <th>V5</th>\n",
       "      <th>V6</th>\n",
       "      <th>V7</th>\n",
       "      <th>V8</th>\n",
       "      <th>V9</th>\n",
       "      <th>V10</th>\n",
       "      <th>V11</th>\n",
       "      <th>V12</th>\n",
       "      <th>V13</th>\n",
       "      <th>V14</th>\n",
       "      <th>V15</th>\n",
       "      <th>V16</th>\n",
       "    </tr>\n",
       "  </thead>\n",
       "  <tbody>\n",
       "    <tr>\n",
       "      <th>0</th>\n",
       "      <td>republican</td>\n",
       "      <td>n</td>\n",
       "      <td>y</td>\n",
       "      <td>n</td>\n",
       "      <td>y</td>\n",
       "      <td>y</td>\n",
       "      <td>y</td>\n",
       "      <td>n</td>\n",
       "      <td>n</td>\n",
       "      <td>n</td>\n",
       "      <td>y</td>\n",
       "      <td>NaN</td>\n",
       "      <td>y</td>\n",
       "      <td>y</td>\n",
       "      <td>y</td>\n",
       "      <td>n</td>\n",
       "      <td>y</td>\n",
       "    </tr>\n",
       "    <tr>\n",
       "      <th>1</th>\n",
       "      <td>republican</td>\n",
       "      <td>n</td>\n",
       "      <td>y</td>\n",
       "      <td>n</td>\n",
       "      <td>y</td>\n",
       "      <td>y</td>\n",
       "      <td>y</td>\n",
       "      <td>n</td>\n",
       "      <td>n</td>\n",
       "      <td>n</td>\n",
       "      <td>n</td>\n",
       "      <td>n</td>\n",
       "      <td>y</td>\n",
       "      <td>y</td>\n",
       "      <td>y</td>\n",
       "      <td>n</td>\n",
       "      <td>NaN</td>\n",
       "    </tr>\n",
       "    <tr>\n",
       "      <th>2</th>\n",
       "      <td>democrat</td>\n",
       "      <td>NaN</td>\n",
       "      <td>y</td>\n",
       "      <td>y</td>\n",
       "      <td>NaN</td>\n",
       "      <td>y</td>\n",
       "      <td>y</td>\n",
       "      <td>n</td>\n",
       "      <td>n</td>\n",
       "      <td>n</td>\n",
       "      <td>n</td>\n",
       "      <td>y</td>\n",
       "      <td>n</td>\n",
       "      <td>y</td>\n",
       "      <td>y</td>\n",
       "      <td>n</td>\n",
       "      <td>n</td>\n",
       "    </tr>\n",
       "    <tr>\n",
       "      <th>3</th>\n",
       "      <td>democrat</td>\n",
       "      <td>n</td>\n",
       "      <td>y</td>\n",
       "      <td>y</td>\n",
       "      <td>n</td>\n",
       "      <td>NaN</td>\n",
       "      <td>y</td>\n",
       "      <td>n</td>\n",
       "      <td>n</td>\n",
       "      <td>n</td>\n",
       "      <td>n</td>\n",
       "      <td>y</td>\n",
       "      <td>n</td>\n",
       "      <td>y</td>\n",
       "      <td>n</td>\n",
       "      <td>n</td>\n",
       "      <td>y</td>\n",
       "    </tr>\n",
       "    <tr>\n",
       "      <th>4</th>\n",
       "      <td>democrat</td>\n",
       "      <td>y</td>\n",
       "      <td>y</td>\n",
       "      <td>y</td>\n",
       "      <td>n</td>\n",
       "      <td>y</td>\n",
       "      <td>y</td>\n",
       "      <td>n</td>\n",
       "      <td>n</td>\n",
       "      <td>n</td>\n",
       "      <td>n</td>\n",
       "      <td>y</td>\n",
       "      <td>NaN</td>\n",
       "      <td>y</td>\n",
       "      <td>y</td>\n",
       "      <td>y</td>\n",
       "      <td>y</td>\n",
       "    </tr>\n",
       "  </tbody>\n",
       "</table>\n",
       "</div>"
      ],
      "text/plain": [
       "        Class   V1 V2 V3   V4   V5 V6 V7 V8 V9 V10  V11  V12 V13 V14 V15  V16\n",
       "0  republican    n  y  n    y    y  y  n  n  n   y  NaN    y   y   y   n    y\n",
       "1  republican    n  y  n    y    y  y  n  n  n   n    n    y   y   y   n  NaN\n",
       "2    democrat  NaN  y  y  NaN    y  y  n  n  n   n    y    n   y   y   n    n\n",
       "3    democrat    n  y  y    n  NaN  y  n  n  n   n    y    n   y   n   n    y\n",
       "4    democrat    y  y  y    n    y  y  n  n  n   n    y  NaN   y   y   y    y"
      ]
     },
     "execution_count": 11,
     "metadata": {},
     "output_type": "execute_result"
    }
   ],
   "source": [
    "# votes.drop('Unnamed: 0', axis=1, inplace=True)\n",
    "votes.head()"
   ]
  },
  {
   "cell_type": "code",
   "execution_count": 9,
   "metadata": {
    "collapsed": false
   },
   "outputs": [
    {
     "name": "stdout",
     "output_type": "stream",
     "text": [
      "<class 'pandas.core.frame.DataFrame'>\n",
      "RangeIndex: 435 entries, 0 to 434\n",
      "Data columns (total 17 columns):\n",
      "Class    435 non-null object\n",
      "V1       423 non-null object\n",
      "V2       387 non-null object\n",
      "V3       424 non-null object\n",
      "V4       424 non-null object\n",
      "V5       420 non-null object\n",
      "V6       424 non-null object\n",
      "V7       421 non-null object\n",
      "V8       420 non-null object\n",
      "V9       413 non-null object\n",
      "V10      428 non-null object\n",
      "V11      414 non-null object\n",
      "V12      404 non-null object\n",
      "V13      410 non-null object\n",
      "V14      418 non-null object\n",
      "V15      407 non-null object\n",
      "V16      331 non-null object\n",
      "dtypes: object(17)\n",
      "memory usage: 57.8+ KB\n"
     ]
    }
   ],
   "source": [
    "votes.info()"
   ]
  },
  {
   "cell_type": "code",
   "execution_count": 21,
   "metadata": {
    "collapsed": false
   },
   "outputs": [],
   "source": []
  },
  {
   "cell_type": "markdown",
   "metadata": {},
   "source": [
    "Next, let's define the x and y variables: "
   ]
  },
  {
   "cell_type": "code",
   "execution_count": 24,
   "metadata": {
    "collapsed": false
   },
   "outputs": [],
   "source": [
    "# X = votes.drop('Class',axis=1).astype(int)\n",
    "x = (votes.drop('Class', axis=1).values == 'y').astype(int)\n",
    "y = votes.Class.values"
   ]
  },
  {
   "cell_type": "code",
   "execution_count": 25,
   "metadata": {
    "collapsed": false
   },
   "outputs": [
    {
     "name": "stderr",
     "output_type": "stream",
     "text": [
      "/Users/Shreyas/anaconda/lib/python2.7/site-packages/sklearn/utils/validation.py:429: DataConversionWarning: Data with input dtype int64 was converted to float64 by StandardScaler.\n",
      "  warnings.warn(msg, _DataConversionWarning)\n"
     ]
    }
   ],
   "source": [
    "from sklearn.preprocessing import StandardScaler\n",
    "x_standard = StandardScaler().fit_transform(x)"
   ]
  },
  {
   "cell_type": "markdown",
   "metadata": {},
   "source": [
    "Next, create the covariance matrix from the standardized x-values and decompose these values to find the eigenvalues and eigenvectors"
   ]
  },
  {
   "cell_type": "code",
   "execution_count": 29,
   "metadata": {
    "collapsed": false
   },
   "outputs": [
    {
     "data": {
      "text/plain": [
       "array([[ 1.00230415,  0.0390487 ,  0.39852965, -0.39876866, -0.34579014,\n",
       "        -0.3839277 ,  0.34852066,  0.39316258,  0.29835044, -0.08243094,\n",
       "         0.11277752, -0.39554734, -0.32461413, -0.34420165,  0.22041201,\n",
       "         0.04178208],\n",
       "       [ 0.0390487 ,  1.00230415, -0.03206322,  0.07219786,  0.13871941,\n",
       "         0.14423513, -0.18752265, -0.11640995, -0.18362303, -0.09106758,\n",
       "         0.21209438, -0.02518596,  0.20689251, -0.01097236, -0.1134886 ,\n",
       "        -0.06281611],\n",
       "       [ 0.39852965, -0.03206322,  1.00230415, -0.70307903, -0.62891934,\n",
       "        -0.42649531,  0.58200314,  0.69808179,  0.55748957,  0.03150538,\n",
       "         0.21382384, -0.61638291, -0.51939642, -0.55892623,  0.47481813,\n",
       "         0.15910551],\n",
       "       [-0.39876866,  0.07219786, -0.70307903,  1.00230415,  0.76700038,\n",
       "         0.47794019, -0.54909614, -0.69360128, -0.58441675,  0.05732038,\n",
       "        -0.28650904,  0.68582975,  0.56288097,  0.63562536, -0.51508594,\n",
       "        -0.11060219],\n",
       "       [-0.34579014,  0.13871941, -0.62891934,  0.76700038,  1.00230415,\n",
       "         0.61367651, -0.66223908, -0.80668293, -0.73734184,  0.01595972,\n",
       "        -0.14647937,  0.6197021 ,  0.62872294,  0.68100578, -0.53446821,\n",
       "        -0.12430009],\n",
       "       [-0.3839277 ,  0.14423513, -0.42649531,  0.47794019,  0.61367651,\n",
       "         1.00230415, -0.54000633, -0.5491954 , -0.54743259,  0.10413501,\n",
       "         0.01208683,  0.50751278,  0.52701822,  0.56661884, -0.43530501,\n",
       "        -0.099972  ],\n",
       "       [ 0.34852066, -0.18752265,  0.58200314, -0.54909614, -0.66223908,\n",
       "        -0.54000633,  1.00230415,  0.71810269,  0.633042  ,  0.04931308,\n",
       "         0.04468352, -0.51152529, -0.53602712, -0.49819079,  0.46697526,\n",
       "         0.2307435 ],\n",
       "       [ 0.39316258, -0.11640995,  0.69808179, -0.69360128, -0.80668293,\n",
       "        -0.5491954 ,  0.71810269,  1.00230415,  0.71358383,  0.04484392,\n",
       "         0.13222968, -0.5899443 , -0.58732921, -0.59926281,  0.51310572,\n",
       "         0.17518412],\n",
       "       [ 0.29835044, -0.18362303,  0.55748957, -0.58441675, -0.73734184,\n",
       "        -0.54743259,  0.633042  ,  0.71358383,  1.00230415,  0.02965549,\n",
       "         0.03514467, -0.54192513, -0.4751578 , -0.51269742,  0.44451182,\n",
       "         0.18988306],\n",
       "       [-0.08243094, -0.09106758,  0.03150538,  0.05732038,  0.01595972,\n",
       "         0.10413501,  0.04931308,  0.04484392,  0.02965549,  1.00230415,\n",
       "        -0.02407167,  0.05745562,  0.05737874,  0.12897488, -0.03198335,\n",
       "         0.15584161],\n",
       "       [ 0.11277752,  0.21209438,  0.21382384, -0.28650904, -0.14647937,\n",
       "         0.01208683,  0.04468352,  0.13222968,  0.03514467, -0.02407167,\n",
       "         1.00230415, -0.17830373, -0.08799361, -0.12256958,  0.17811412,\n",
       "         0.03234599],\n",
       "       [-0.39554734, -0.02518596, -0.61638291,  0.68582975,  0.6197021 ,\n",
       "         0.50751278, -0.51152529, -0.5899443 , -0.54192513,  0.05745562,\n",
       "        -0.17830373,  1.00230415,  0.5366931 ,  0.57659617, -0.46605723,\n",
       "        -0.09463085],\n",
       "       [-0.32461413,  0.20689251, -0.51939642,  0.56288097,  0.62872294,\n",
       "         0.52701822, -0.53602712, -0.58732921, -0.4751578 ,  0.05737874,\n",
       "        -0.08799361,  0.5366931 ,  1.00230415,  0.53887488, -0.46692618,\n",
       "        -0.08775585],\n",
       "       [-0.34420165, -0.01097236, -0.55892623,  0.63562536,  0.68100578,\n",
       "         0.56661884, -0.49819079, -0.59926281, -0.51269742,  0.12897488,\n",
       "        -0.12256958,  0.57659617,  0.53887488,  1.00230415, -0.50542753,\n",
       "        -0.0513631 ],\n",
       "       [ 0.22041201, -0.1134886 ,  0.47481813, -0.51508594, -0.53446821,\n",
       "        -0.43530501,  0.46697526,  0.51310572,  0.44451182, -0.03198335,\n",
       "         0.17811412, -0.46605723, -0.46692618, -0.50542753,  1.00230415,\n",
       "         0.11037446],\n",
       "       [ 0.04178208, -0.06281611,  0.15910551, -0.11060219, -0.12430009,\n",
       "        -0.099972  ,  0.2307435 ,  0.17518412,  0.18988306,  0.15584161,\n",
       "         0.03234599, -0.09463085, -0.08775585, -0.0513631 ,  0.11037446,\n",
       "         1.00230415]])"
      ]
     },
     "execution_count": 29,
     "metadata": {},
     "output_type": "execute_result"
    }
   ],
   "source": [
    "covmat = np.cov(x_standard.T)\n",
    "covmat"
   ]
  },
  {
   "cell_type": "code",
   "execution_count": 31,
   "metadata": {
    "collapsed": false
   },
   "outputs": [],
   "source": [
    "eigenValues, eigenVectors = np.linalg.eig(covmat)"
   ]
  },
  {
   "cell_type": "markdown",
   "metadata": {},
   "source": [
    "Now, let's check the eigenvalues: "
   ]
  },
  {
   "cell_type": "code",
   "execution_count": 32,
   "metadata": {
    "collapsed": false
   },
   "outputs": [
    {
     "data": {
      "text/plain": [
       "array([ 7.102243  ,  1.44867882,  1.1998064 ,  0.88126251,  0.8248454 ,\n",
       "        0.7380054 ,  0.14086407,  0.21188391,  0.61036665,  0.27622346,\n",
       "        0.31858994,  0.35967328,  0.41340487,  0.54030753,  0.51431461,\n",
       "        0.45639653])"
      ]
     },
     "execution_count": 32,
     "metadata": {},
     "output_type": "execute_result"
    }
   ],
   "source": [
    "eigenValues"
   ]
  },
  {
   "cell_type": "markdown",
   "metadata": {},
   "source": [
    "And the eigenvectors: "
   ]
  },
  {
   "cell_type": "code",
   "execution_count": 33,
   "metadata": {
    "collapsed": false
   },
   "outputs": [
    {
     "data": {
      "text/plain": [
       "array([[-0.18803934, -0.19357121,  0.07328808,  0.51751543,  0.35845006,\n",
       "         0.62089874, -0.05713493, -0.00747574,  0.15602045, -0.03613906,\n",
       "        -0.07010134, -0.20296072,  0.12290505,  0.07348099,  0.20525446,\n",
       "        -0.04760145],\n",
       "       [ 0.05231849, -0.5860793 , -0.23045319,  0.37516036,  0.12646973,\n",
       "        -0.55398342,  0.01855198, -0.10910015,  0.10486865,  0.0799821 ,\n",
       "         0.0801356 , -0.13259865, -0.06581724,  0.07925709, -0.00808044,\n",
       "         0.26963501],\n",
       "       [-0.29660826, -0.08013044, -0.16884543, -0.01308925,  0.10990706,\n",
       "         0.03068335, -0.2133564 , -0.06665988, -0.17958811, -0.23883742,\n",
       "         0.56681358,  0.45295072,  0.08181081, -0.3596669 ,  0.23464645,\n",
       "         0.08418781],\n",
       "       [ 0.31510691,  0.1422561 ,  0.07340739,  0.13936979, -0.00770719,\n",
       "        -0.05450439, -0.39727071,  0.4526401 ,  0.17904898, -0.55964437,\n",
       "         0.01205996,  0.0780124 , -0.11191782,  0.25270932,  0.01034961,\n",
       "         0.24886662],\n",
       "       [ 0.33401889, -0.0385968 , -0.02237429,  0.09559165, -0.01349543,\n",
       "         0.13452608,  0.76511773, -0.07320061,  0.17191793, -0.32328863,\n",
       "         0.03152091,  0.26761767, -0.17093715, -0.13088875,  0.11234843,\n",
       "         0.05101759],\n",
       "       [ 0.26716267, -0.07972083, -0.25992991, -0.19341153,  0.03386373,\n",
       "         0.03842238, -0.07856633,  0.01950334, -0.31205465, -0.18250948,\n",
       "        -0.37816447, -0.3496993 ,  0.1915876 , -0.44154008,  0.37379665,\n",
       "         0.20186102],\n",
       "       [-0.29182075,  0.19643052, -0.04588376,  0.09917934,  0.00585422,\n",
       "        -0.01333985, -0.02286656, -0.27081755, -0.13634586,  0.05344028,\n",
       "        -0.51147706,  0.42817513, -0.13996501,  0.23355998,  0.16912358,\n",
       "         0.47021755],\n",
       "       [-0.32681104,  0.0725546 , -0.07536811,  0.00111245,  0.08663186,\n",
       "        -0.07794592,  0.39578094,  0.73144287, -0.23223146,  0.17757482,\n",
       "         0.07836788, -0.07319843,  0.12111501,  0.11381175,  0.10993021,\n",
       "         0.20086437],\n",
       "       [-0.29287877,  0.18058669, -0.00924878,  0.03611105,  0.01701353,\n",
       "        -0.17373675,  0.15624907, -0.28123287, -0.34831872, -0.50427207,\n",
       "         0.13000295, -0.41876627, -0.17583247,  0.31855412,  0.09648134,\n",
       "        -0.1914593 ],\n",
       "       [ 0.01359228,  0.37071451, -0.57391342, -0.15274865,  0.60726484,\n",
       "        -0.0858061 ,  0.01674202, -0.04673526,  0.31069277,  0.0048658 ,\n",
       "        -0.02398412, -0.01148239,  0.03878859,  0.03544397, -0.15575929,\n",
       "        -0.08244357],\n",
       "       [-0.07112483, -0.4880378 , -0.44655414, -0.38257418, -0.2003779 ,\n",
       "         0.38145471, -0.01032933,  0.05008511, -0.06897903, -0.14494611,\n",
       "        -0.04193094,  0.08099002, -0.04240787,  0.37112324, -0.22157141,\n",
       "        -0.0016436 ],\n",
       "       [ 0.28929338,  0.15955659,  0.01496153, -0.04203207, -0.07669119,\n",
       "         0.06817755,  0.07946873, -0.26127784, -0.03239667,  0.10602841,\n",
       "         0.33002518, -0.05724727,  0.6390797 ,  0.39062137,  0.10896117,\n",
       "         0.32616483],\n",
       "       [ 0.27553751, -0.06114016, -0.14476793,  0.12948346,  0.04813455,\n",
       "        -0.14713108, -0.06865143,  0.10365127, -0.22486428,  0.14032207,\n",
       "        -0.11204054,  0.32483382,  0.06428168,  0.30238212,  0.46090533,\n",
       "        -0.58895758],\n",
       "       [ 0.28769832,  0.14238328, -0.13711492,  0.00581328,  0.03355151,\n",
       "         0.24352607, -0.08900957, -0.0304292 , -0.19874087,  0.37634747,\n",
       "         0.33552707, -0.1694557 , -0.63338072,  0.07327798,  0.17909653,\n",
       "         0.2186269 ],\n",
       "       [-0.24744034, -0.0173265 , -0.01321806, -0.29871419, -0.2442241 ,\n",
       "        -0.07884425, -0.01302678, -0.00362204,  0.61764899,  0.03636348,\n",
       "         0.04670851, -0.15415021, -0.0844283 ,  0.07268007,  0.60154166,\n",
       "         0.00202327],\n",
       "       [-0.07138452,  0.28757258, -0.51258496,  0.48647494, -0.59693453,\n",
       "         0.05455208, -0.01953834,  0.02986224,  0.07535585,  0.02494754,\n",
       "         0.00497602, -0.06360254,  0.0780074 , -0.14271012, -0.0933167 ,\n",
       "        -0.08182005]])"
      ]
     },
     "execution_count": 33,
     "metadata": {},
     "output_type": "execute_result"
    }
   ],
   "source": [
    "eigenVectors"
   ]
  },
  {
   "cell_type": "markdown",
   "metadata": {},
   "source": [
    "To find the principal componants, find the eigenpairs, and sort them from highest to lowest. "
   ]
  },
  {
   "cell_type": "code",
   "execution_count": 34,
   "metadata": {
    "collapsed": false
   },
   "outputs": [
    {
     "name": "stdout",
     "output_type": "stream",
     "text": [
      "7.10224299609\n",
      "1.44867881863\n",
      "1.19980639643\n",
      "0.881262509772\n",
      "0.824845400306\n",
      "0.738005397126\n",
      "0.610366646038\n",
      "0.540307526332\n",
      "0.5143146149\n",
      "0.456396531035\n",
      "0.413404865073\n",
      "0.359673279653\n",
      "0.31858993662\n",
      "0.276223460272\n",
      "0.211883908313\n",
      "0.140864072849\n"
     ]
    }
   ],
   "source": [
    "eigenPairs = [(np.abs(eigenValues[i]), eigenVectors[:,i]) for i in range(len(eigenValues))]\n",
    "eigenPairs.sort()\n",
    "eigenPairs.reverse()\n",
    "for i in eigenPairs:\n",
    "    print(i[0])"
   ]
  },
  {
   "cell_type": "markdown",
   "metadata": {
    "collapsed": true
   },
   "source": [
    "Now, calculate the explained variance. Recall the methods we learned in lesson 2.2!"
   ]
  },
  {
   "cell_type": "code",
   "execution_count": 36,
   "metadata": {
    "collapsed": false
   },
   "outputs": [
    {
     "name": "stdout",
     "output_type": "stream",
     "text": [
      "[44.28697500436504, 9.0334282656153384, 7.4815513800621112, 5.4952288684035526, 5.1434325248950232, 4.6019302062155623, 3.8060219020170365, 3.3691590004030161, 3.2070767653227876, 2.8459208975440626, 2.5778406816338881, 2.2427902782952089, 1.9866096622564635, 1.7224278988231507, 1.3212301179310875, 0.87837654621665939]\n"
     ]
    }
   ],
   "source": [
    "totalEigen = sum(eigenValues)\n",
    "varExpl = [(i / totalEigen)*100 for i in sorted(eigenValues, reverse=True)]\n",
    "print(varExpl)"
   ]
  },
  {
   "cell_type": "markdown",
   "metadata": {},
   "source": [
    "Now, calculate the explained variance and the Cumulative explained variance"
   ]
  },
  {
   "cell_type": "code",
   "execution_count": 38,
   "metadata": {
    "collapsed": false
   },
   "outputs": [
    {
     "data": {
      "text/plain": [
       "array([ 44.286975  ,  53.32040327,  60.80195465,  66.29718352,\n",
       "        71.44061604,  76.04254625,  79.84856815,  83.21772715,\n",
       "        86.42480392,  89.27072481,  91.8485655 ,  94.09135577,\n",
       "        96.07796544,  97.80039334,  99.12162345, 100.        ])"
      ]
     },
     "execution_count": 38,
     "metadata": {},
     "output_type": "execute_result"
    }
   ],
   "source": [
    "cvarex = np.cumsum(varExpl)\n",
    "cvarex"
   ]
  },
  {
   "cell_type": "code",
   "execution_count": 41,
   "metadata": {
    "collapsed": false
   },
   "outputs": [
    {
     "data": {
      "image/png": "[encoded data removed]",
      "text/plain": [
       "<matplotlib.figure.Figure at 0x1155db110>"
      ]
     },
     "metadata": {},
     "output_type": "display_data"
    }
   ],
   "source": [
    "plt.plot(cvarex)\n",
    "plt.show()"
   ]
  },
  {
   "cell_type": "markdown",
   "metadata": {},
   "source": [
    "Now, conduct the PCA using scikit learn"
   ]
  },
  {
   "cell_type": "code",
   "execution_count": 51,
   "metadata": {
    "collapsed": false
   },
   "outputs": [],
   "source": [
    "from sklearn.decomposition import PCA\n",
    "PCA_set = PCA(n_components=5)\n",
    "Y = PCA_set.fit_transform(x_standard)\n"
   ]
  },
  {
   "cell_type": "code",
   "execution_count": 52,
   "metadata": {
    "collapsed": false
   },
   "outputs": [
    {
     "data": {
      "text/plain": [
       "array([ 7.085916  ,  1.44534852,  1.19704822,  0.87923662,  0.8229492 ])"
      ]
     },
     "execution_count": 52,
     "metadata": {},
     "output_type": "execute_result"
    }
   ],
   "source": [
    "PCA_set.explained_variance_"
   ]
  },
  {
   "cell_type": "markdown",
   "metadata": {},
   "source": [
    "# Case #2: Airport Delays"
   ]
  },
  {
   "cell_type": "code",
   "execution_count": 54,
   "metadata": {
    "collapsed": true
   },
   "outputs": [],
   "source": [
    "airports = pd.read_csv('../assets/datasets/airport_operations.csv')"
   ]
  },
  {
   "cell_type": "markdown",
   "metadata": {},
   "source": [
    "First, let's define the x and y variables: Airport is going to be our \"x\" variable"
   ]
  },
  {
   "cell_type": "code",
   "execution_count": 55,
   "metadata": {
    "collapsed": false
   },
   "outputs": [
    {
     "data": {
      "text/html": [
       "<div>\n",
       "<table border=\"1\" class=\"dataframe\">\n",
       "  <thead>\n",
       "    <tr style=\"text-align: right;\">\n",
       "      <th></th>\n",
       "      <th>airport</th>\n",
       "      <th>year</th>\n",
       "      <th>departures for metric computation</th>\n",
       "      <th>arrivals for metric computation</th>\n",
       "      <th>percent on-time gate departures</th>\n",
       "      <th>percent on-time airport departures</th>\n",
       "      <th>percent on-time gate arrivals</th>\n",
       "      <th>average_gate_departure_delay</th>\n",
       "      <th>average_taxi_out_time</th>\n",
       "      <th>average taxi out delay</th>\n",
       "      <th>average airport departure delay</th>\n",
       "      <th>average airborne delay</th>\n",
       "      <th>average taxi in delay</th>\n",
       "      <th>average block delay</th>\n",
       "      <th>average gate arrival delay</th>\n",
       "    </tr>\n",
       "  </thead>\n",
       "  <tbody>\n",
       "    <tr>\n",
       "      <th>0</th>\n",
       "      <td>ABQ</td>\n",
       "      <td>2004</td>\n",
       "      <td>53971</td>\n",
       "      <td>53818</td>\n",
       "      <td>0.8030</td>\n",
       "      <td>0.7809</td>\n",
       "      <td>0.7921</td>\n",
       "      <td>10.38</td>\n",
       "      <td>9.89</td>\n",
       "      <td>2.43</td>\n",
       "      <td>12.10</td>\n",
       "      <td>2.46</td>\n",
       "      <td>0.83</td>\n",
       "      <td>2.55</td>\n",
       "      <td>10.87</td>\n",
       "    </tr>\n",
       "    <tr>\n",
       "      <th>1</th>\n",
       "      <td>ABQ</td>\n",
       "      <td>2005</td>\n",
       "      <td>51829</td>\n",
       "      <td>51877</td>\n",
       "      <td>0.8140</td>\n",
       "      <td>0.7922</td>\n",
       "      <td>0.8001</td>\n",
       "      <td>9.60</td>\n",
       "      <td>9.79</td>\n",
       "      <td>2.29</td>\n",
       "      <td>11.20</td>\n",
       "      <td>2.26</td>\n",
       "      <td>0.89</td>\n",
       "      <td>2.34</td>\n",
       "      <td>10.24</td>\n",
       "    </tr>\n",
       "    <tr>\n",
       "      <th>2</th>\n",
       "      <td>ABQ</td>\n",
       "      <td>2006</td>\n",
       "      <td>49682</td>\n",
       "      <td>51199</td>\n",
       "      <td>0.7983</td>\n",
       "      <td>0.7756</td>\n",
       "      <td>0.7746</td>\n",
       "      <td>10.84</td>\n",
       "      <td>9.89</td>\n",
       "      <td>2.16</td>\n",
       "      <td>12.33</td>\n",
       "      <td>2.12</td>\n",
       "      <td>0.84</td>\n",
       "      <td>2.66</td>\n",
       "      <td>11.82</td>\n",
       "    </tr>\n",
       "    <tr>\n",
       "      <th>3</th>\n",
       "      <td>ABQ</td>\n",
       "      <td>2007</td>\n",
       "      <td>53255</td>\n",
       "      <td>53611</td>\n",
       "      <td>0.8005</td>\n",
       "      <td>0.7704</td>\n",
       "      <td>0.7647</td>\n",
       "      <td>11.29</td>\n",
       "      <td>10.34</td>\n",
       "      <td>2.40</td>\n",
       "      <td>12.95</td>\n",
       "      <td>2.19</td>\n",
       "      <td>1.29</td>\n",
       "      <td>3.06</td>\n",
       "      <td>12.71</td>\n",
       "    </tr>\n",
       "    <tr>\n",
       "      <th>4</th>\n",
       "      <td>ABQ</td>\n",
       "      <td>2008</td>\n",
       "      <td>49589</td>\n",
       "      <td>49512</td>\n",
       "      <td>0.8103</td>\n",
       "      <td>0.7844</td>\n",
       "      <td>0.7875</td>\n",
       "      <td>10.79</td>\n",
       "      <td>10.41</td>\n",
       "      <td>2.41</td>\n",
       "      <td>12.32</td>\n",
       "      <td>1.82</td>\n",
       "      <td>1.03</td>\n",
       "      <td>2.79</td>\n",
       "      <td>11.48</td>\n",
       "    </tr>\n",
       "  </tbody>\n",
       "</table>\n",
       "</div>"
      ],
      "text/plain": [
       "  airport  year  departures for metric computation  \\\n",
       "0     ABQ  2004                              53971   \n",
       "1     ABQ  2005                              51829   \n",
       "2     ABQ  2006                              49682   \n",
       "3     ABQ  2007                              53255   \n",
       "4     ABQ  2008                              49589   \n",
       "\n",
       "   arrivals for metric computation  percent on-time gate departures  \\\n",
       "0                            53818                           0.8030   \n",
       "1                            51877                           0.8140   \n",
       "2                            51199                           0.7983   \n",
       "3                            53611                           0.8005   \n",
       "4                            49512                           0.8103   \n",
       "\n",
       "   percent on-time airport departures  percent on-time gate arrivals  \\\n",
       "0                              0.7809                         0.7921   \n",
       "1                              0.7922                         0.8001   \n",
       "2                              0.7756                         0.7746   \n",
       "3                              0.7704                         0.7647   \n",
       "4                              0.7844                         0.7875   \n",
       "\n",
       "   average_gate_departure_delay  average_taxi_out_time  \\\n",
       "0                         10.38                   9.89   \n",
       "1                          9.60                   9.79   \n",
       "2                         10.84                   9.89   \n",
       "3                         11.29                  10.34   \n",
       "4                         10.79                  10.41   \n",
       "\n",
       "   average taxi out delay  average airport departure delay  \\\n",
       "0                    2.43                            12.10   \n",
       "1                    2.29                            11.20   \n",
       "2                    2.16                            12.33   \n",
       "3                    2.40                            12.95   \n",
       "4                    2.41                            12.32   \n",
       "\n",
       "   average airborne delay  average taxi in delay  average block delay  \\\n",
       "0                    2.46                   0.83                 2.55   \n",
       "1                    2.26                   0.89                 2.34   \n",
       "2                    2.12                   0.84                 2.66   \n",
       "3                    2.19                   1.29                 3.06   \n",
       "4                    1.82                   1.03                 2.79   \n",
       "\n",
       "   average gate arrival delay  \n",
       "0                       10.87  \n",
       "1                       10.24  \n",
       "2                       11.82  \n",
       "3                       12.71  \n",
       "4                       11.48  "
      ]
     },
     "execution_count": 55,
     "metadata": {},
     "output_type": "execute_result"
    }
   ],
   "source": [
    "airports.head()"
   ]
  },
  {
   "cell_type": "code",
   "execution_count": 56,
   "metadata": {
    "collapsed": false
   },
   "outputs": [
    {
     "name": "stdout",
     "output_type": "stream",
     "text": [
      "<class 'pandas.core.frame.DataFrame'>\n",
      "RangeIndex: 841 entries, 0 to 840\n",
      "Data columns (total 15 columns):\n",
      "airport                               841 non-null object\n",
      "year                                  841 non-null int64\n",
      "departures for metric computation     841 non-null int64\n",
      "arrivals for metric computation       841 non-null int64\n",
      "percent on-time gate departures       841 non-null float64\n",
      "percent on-time airport departures    841 non-null float64\n",
      "percent on-time gate arrivals         841 non-null float64\n",
      "average_gate_departure_delay          841 non-null float64\n",
      "average_taxi_out_time                 841 non-null float64\n",
      "average taxi out delay                841 non-null float64\n",
      "average airport departure delay       841 non-null float64\n",
      "average airborne delay                841 non-null float64\n",
      "average taxi in delay                 841 non-null float64\n",
      "average block delay                   841 non-null float64\n",
      "average gate arrival delay            841 non-null float64\n",
      "dtypes: float64(11), int64(3), object(1)\n",
      "memory usage: 98.6+ KB\n"
     ]
    }
   ],
   "source": [
    "airports.info()"
   ]
  },
  {
   "cell_type": "markdown",
   "metadata": {},
   "source": [
    "Then, standardize the x variable for analysis"
   ]
  },
  {
   "cell_type": "code",
   "execution_count": 58,
   "metadata": {
    "collapsed": false
   },
   "outputs": [],
   "source": [
    "x2 = airports.ix[:,2:14].values\n",
    "y2 = airports.ix[:,0].values"
   ]
  },
  {
   "cell_type": "code",
   "execution_count": 61,
   "metadata": {
    "collapsed": false
   },
   "outputs": [],
   "source": [
    "x2_standard = StandardScaler().fit_transform(x2)"
   ]
  },
  {
   "cell_type": "markdown",
   "metadata": {},
   "source": [
    "Next, create the covariance matrix from the standardized x-values and decompose these values to find the eigenvalues and eigenvectors"
   ]
  },
  {
   "cell_type": "code",
   "execution_count": 62,
   "metadata": {
    "collapsed": false
   },
   "outputs": [],
   "source": [
    "covMat = np.cov(x2_standard.T)\n",
    "eigenValues2, eigenVectors2 = np.linalg.eig(covMat)"
   ]
  },
  {
   "cell_type": "markdown",
   "metadata": {},
   "source": [
    "Then, check your eigenvalues and eigenvectors:"
   ]
  },
  {
   "cell_type": "code",
   "execution_count": 64,
   "metadata": {
    "collapsed": false
   },
   "outputs": [
    {
     "name": "stdout",
     "output_type": "stream",
     "text": [
      "[  5.71594128e+00   4.10771763e+00   8.46070622e-01   4.92674626e-01\n",
      "   4.68096266e-01   1.66713004e-01   8.78260266e-02   7.27989129e-02\n",
      "   5.25813963e-02   2.99299918e-03   1.67049793e-04   7.05899593e-04]\n"
     ]
    },
    {
     "data": {
      "text/plain": [
       "array([[ -1.92844661e-01,  -3.85272521e-01,   4.00175037e-01,\n",
       "          1.64039585e-01,   1.86296653e-01,   2.78156147e-01,\n",
       "          7.86539360e-02,   3.17041164e-02,   7.52767812e-02,\n",
       "         -1.14438376e-02,  -7.07864735e-01,  -3.44682322e-02],\n",
       "       [ -1.92353674e-01,  -3.85057896e-01,   4.02190449e-01,\n",
       "          1.66802678e-01,   1.84403875e-01,   2.78351867e-01,\n",
       "          9.04981279e-02,   3.77083630e-02,   8.09001581e-02,\n",
       "          1.35190021e-02,   7.04235896e-01,   3.71215770e-02],\n",
       "       [  2.87689649e-01,  -3.33455724e-01,  -2.51323774e-01,\n",
       "         -8.13357968e-02,   7.50865080e-03,   2.37735910e-02,\n",
       "         -5.78177983e-02,   1.41563250e-02,   4.95309257e-01,\n",
       "         -6.57324120e-01,   2.23495764e-02,  -2.32792117e-01],\n",
       "       [  3.80590914e-01,  -1.72431188e-01,  -8.79462334e-02,\n",
       "         -7.06458258e-02,   2.02464908e-01,   3.45123821e-03,\n",
       "         -3.15914078e-01,   9.30547916e-02,   4.84973886e-01,\n",
       "          6.09336471e-01,  -2.20444648e-02,   2.37173471e-01],\n",
       "       [  2.85894088e-01,  -3.36301043e-01,  -2.99134199e-02,\n",
       "          1.59518162e-01,  -5.12469346e-02,  -3.06233643e-02,\n",
       "         -2.07043287e-01,  -7.87364899e-01,  -3.33260534e-01,\n",
       "          3.67949391e-02,   5.48464537e-03,  -2.08419184e-03],\n",
       "       [ -3.19365327e-01,   2.95222542e-01,   1.95276008e-01,\n",
       "          1.86885012e-02,  -6.65872405e-02,  -1.22212120e-03,\n",
       "         -3.92604115e-01,  -2.75502523e-01,   3.45228298e-01,\n",
       "          1.45513297e-01,   3.21025839e-02,  -6.29686589e-01],\n",
       "       [ -2.72077655e-01,  -3.05263296e-01,  -3.04479989e-01,\n",
       "         -8.35800429e-02,  -3.43919599e-01,   3.23409367e-01,\n",
       "         -5.80326612e-01,   3.07776351e-01,  -2.80010662e-01,\n",
       "          1.33496666e-02,   4.13102202e-03,   1.06566875e-02],\n",
       "       [ -2.47982235e-01,  -3.23707493e-01,  -3.51187640e-01,\n",
       "         -5.81869499e-02,  -4.19037265e-01,  -9.28961663e-03,\n",
       "          5.54308167e-01,  -1.38404356e-01,   2.06344540e-01,\n",
       "          3.59873452e-01,  -1.87008221e-03,  -1.81155973e-01],\n",
       "       [ -3.92056250e-01,   1.36959631e-01,   3.70775090e-02,\n",
       "          5.58230767e-03,  -2.41434941e-01,  -9.92247360e-03,\n",
       "         -1.20046325e-01,  -3.26214034e-01,   3.80279739e-01,\n",
       "         -2.09531398e-01,  -2.99779163e-02,   6.76385459e-01],\n",
       "       [ -2.98989675e-01,  -5.16452073e-02,  -4.41081814e-01,\n",
       "          6.79759440e-01,   3.90490913e-01,  -2.98369590e-01,\n",
       "         -7.22260624e-02,   6.46423217e-02,   1.98264161e-02,\n",
       "         -2.73459390e-03,   4.22755339e-04,  -2.88803204e-03],\n",
       "       [ -1.90359458e-01,  -3.77174733e-01,   2.61070489e-01,\n",
       "         -3.01434755e-01,  -2.21947423e-02,  -7.90128611e-01,\n",
       "         -1.41945294e-01,   1.16128252e-01,  -6.20250983e-02,\n",
       "         -1.36797121e-02,   1.79745348e-03,  -3.77383032e-03],\n",
       "       [ -3.15603375e-01,  -2.13859116e-02,  -2.96733113e-01,\n",
       "         -5.86965005e-01,   6.14850169e-01,   1.59771754e-01,\n",
       "          4.07605103e-02,  -2.34320642e-01,  -8.47086808e-02,\n",
       "         -2.68694989e-03,   3.24845461e-03,   5.48054975e-03]])"
      ]
     },
     "execution_count": 64,
     "metadata": {},
     "output_type": "execute_result"
    }
   ],
   "source": [
    "print eigenValues2\n",
    "eigenVectors2"
   ]
  },
  {
   "cell_type": "markdown",
   "metadata": {},
   "source": [
    "To find the principal componants, find the eigenpairs, and sort them from highest to lowest. "
   ]
  },
  {
   "cell_type": "code",
   "execution_count": 65,
   "metadata": {
    "collapsed": false
   },
   "outputs": [
    {
     "name": "stdout",
     "output_type": "stream",
     "text": [
      "5.71594128131\n",
      "4.10771763057\n",
      "0.846070621527\n",
      "0.492674626426\n",
      "0.468096266456\n",
      "0.166713003709\n",
      "0.0878260265801\n",
      "0.0727989128724\n",
      "0.0525813962709\n",
      "0.0029929991831\n",
      "0.000705899593354\n",
      "0.000167049792639\n"
     ]
    }
   ],
   "source": [
    "eigenPairs2 = [(np.abs(eigenValues2[i]), eigenVectors2[:,i]) for i in range(len(eigenValues2))]\n",
    "eigenPairs2.sort()\n",
    "eigenPairs2.reverse()\n",
    "for i in eigenPairs2:\n",
    "    print(i[0])"
   ]
  },
  {
   "cell_type": "markdown",
   "metadata": {},
   "source": [
    "Next, Calculate the explained variance"
   ]
  },
  {
   "cell_type": "code",
   "execution_count": 66,
   "metadata": {
    "collapsed": false
   },
   "outputs": [],
   "source": [
    "totalEigen = sum(eigenValues2)\n",
    "varExpl = [(i / totalEigen)*100 for i in sorted(eigenValues2, reverse=True)]\n",
    "cumulvarExpl = np.cumsum(varExpl)"
   ]
  },
  {
   "cell_type": "code",
   "execution_count": 67,
   "metadata": {
    "collapsed": false
   },
   "outputs": [
    {
     "data": {
      "text/plain": [
       "array([ 47.57620567,  81.76648321,  88.80868815,  92.9094282 ,\n",
       "        96.80559213,  98.19321523,  98.92422853,  99.53016479,\n",
       "        99.96782207,  99.99273407,  99.99860957, 100.        ])"
      ]
     },
     "execution_count": 67,
     "metadata": {},
     "output_type": "execute_result"
    }
   ],
   "source": [
    "cumulvarExpl"
   ]
  },
  {
   "cell_type": "code",
   "execution_count": 68,
   "metadata": {
    "collapsed": false
   },
   "outputs": [
    {
     "data": {
      "text/plain": [
       "[<matplotlib.lines.Line2D at 0x1181d1d90>]"
      ]
     },
     "execution_count": 68,
     "metadata": {},
     "output_type": "execute_result"
    },
    {
     "data": {
      "image/png": "[encoded data removed]",
      "text/plain": [
       "<matplotlib.figure.Figure at 0x115952bd0>"
      ]
     },
     "metadata": {},
     "output_type": "display_data"
    }
   ],
   "source": [
    "plt.plot(cumulvarExpl)"
   ]
  },
  {
   "cell_type": "markdown",
   "metadata": {},
   "source": [
    "Finally, conduct the PCA - use the results about to guide your selection of \"n\" componants"
   ]
  },
  {
   "cell_type": "code",
   "execution_count": 69,
   "metadata": {
    "collapsed": false
   },
   "outputs": [],
   "source": [
    "airports_pca = PCA(n_components=2)\n",
    "Y = airports_pca.fit_transform(x2_standard)"
   ]
  },
  {
   "cell_type": "code",
   "execution_count": 70,
   "metadata": {
    "collapsed": false
   },
   "outputs": [
    {
     "data": {
      "text/plain": [
       "array([[ 0.19284466,  0.19235367, -0.28768965, -0.38059091, -0.28589409,\n",
       "         0.31936533,  0.27207765,  0.24798223,  0.39205625,  0.29898968,\n",
       "         0.19035946,  0.31560337],\n",
       "       [-0.38527252, -0.3850579 , -0.33345572, -0.17243119, -0.33630104,\n",
       "         0.29522254, -0.3052633 , -0.32370749,  0.13695963, -0.05164521,\n",
       "        -0.37717473, -0.02138591]])"
      ]
     },
     "execution_count": 70,
     "metadata": {},
     "output_type": "execute_result"
    }
   ],
   "source": [
    "airports_pca.components_"
   ]
  },
  {
   "cell_type": "code",
   "execution_count": null,
   "metadata": {
    "collapsed": true
   },
   "outputs": [],
   "source": []
  }
 ],
 "metadata": {
  "anaconda-cloud": {},
  "kernelspec": {
   "display_name": "Python [default]",
   "language": "python",
   "name": "python2"
  },
  "language_info": {
   "codemirror_mode": {
    "name": "ipython",
    "version": 2
   },
   "file_extension": ".py",
   "mimetype": "text/x-python",
   "name": "python",
   "nbconvert_exporter": "python",
   "pygments_lexer": "ipython2",
   "version": "2.7.12"
  }
 },
 "nbformat": 4,
 "nbformat_minor": 0
}
